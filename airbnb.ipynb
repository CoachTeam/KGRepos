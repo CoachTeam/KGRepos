{
 "metadata": {
  "name": "",
  "signature": "sha256:8f812759c392940c0ea27bfe9d27b25a7105403d404bbdd977c7eef270e441fe"
 },
 "nbformat": 3,
 "nbformat_minor": 0,
 "worksheets": [
  {
   "cells": [
    {
     "cell_type": "code",
     "collapsed": false,
     "input": [
      "import pandas as pd\n",
      "import numpy as np\n",
      "from sklearn.preprocessing  import LabelEncoder\n",
      "from xgboost.sklearn import XGBClassifier "
     ],
     "language": "python",
     "metadata": {},
     "outputs": [],
     "prompt_number": 26
    },
    {
     "cell_type": "code",
     "collapsed": false,
     "input": [
      "#loading data\n",
      "df_train = pd.read_csv(\"/Users/Dongjian/data/airbnb/train_users_2.csv\")\n",
      "df_test = pd.read_csv(\"/Users/Dongjian/data/airbnb/test_users.csv\")\n",
      "labels = df_train[\"country_destination\"].values\n",
      "df_train = df_train.drop(['country_destination'],axis=1)\n",
      "id_test = df_test['id']\n",
      "piv_train = df_train.shape[0]"
     ],
     "language": "python",
     "metadata": {},
     "outputs": [],
     "prompt_number": 39
    },
    {
     "cell_type": "code",
     "collapsed": false,
     "input": [
      "#creating "
     ],
     "language": "python",
     "metadata": {},
     "outputs": [
      {
       "output_type": "stream",
       "stream": "stdout",
       "text": [
        "213451\n"
       ]
      }
     ],
     "prompt_number": 40
    }
   ],
   "metadata": {}
  }
 ]
}